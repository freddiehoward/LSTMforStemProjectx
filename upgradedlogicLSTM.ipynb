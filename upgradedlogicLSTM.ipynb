{
  "nbformat": 4,
  "nbformat_minor": 0,
  "metadata": {
    "colab": {
      "provenance": [],
      "authorship_tag": "ABX9TyMhd5BgaZczkC/Ypb7dzlSk"
    },
    "kernelspec": {
      "name": "python3",
      "display_name": "Python 3"
    },
    "language_info": {
      "name": "python"
    }
  },
  "cells": [
    {
      "cell_type": "code",
      "source": [
        "!pip install torch\n",
        "!pip install matplotlib\n",
        "!pip install yfinance\n",
        "!pip install numpy\n",
        "\n",
        "import numpy as np\n",
        "from matplotlib import pyplot as plt"
      ],
      "metadata": {
        "id": "3xRTMEGmmF0J",
        "colab": {
          "base_uri": "https://localhost:8080/"
        },
        "outputId": "0c0ebe88-ffbb-42e1-8624-a634b3c18627"
      },
      "execution_count": 1,
      "outputs": [
        {
          "output_type": "stream",
          "name": "stdout",
          "text": [
            "Requirement already satisfied: torch in /usr/local/lib/python3.10/dist-packages (2.2.1+cu121)\n",
            "Requirement already satisfied: filelock in /usr/local/lib/python3.10/dist-packages (from torch) (3.13.4)\n",
            "Requirement already satisfied: typing-extensions>=4.8.0 in /usr/local/lib/python3.10/dist-packages (from torch) (4.11.0)\n",
            "Requirement already satisfied: sympy in /usr/local/lib/python3.10/dist-packages (from torch) (1.12)\n",
            "Requirement already satisfied: networkx in /usr/local/lib/python3.10/dist-packages (from torch) (3.3)\n",
            "Requirement already satisfied: jinja2 in /usr/local/lib/python3.10/dist-packages (from torch) (3.1.3)\n",
            "Requirement already satisfied: fsspec in /usr/local/lib/python3.10/dist-packages (from torch) (2023.6.0)\n",
            "Collecting nvidia-cuda-nvrtc-cu12==12.1.105 (from torch)\n",
            "  Using cached nvidia_cuda_nvrtc_cu12-12.1.105-py3-none-manylinux1_x86_64.whl (23.7 MB)\n",
            "Collecting nvidia-cuda-runtime-cu12==12.1.105 (from torch)\n",
            "  Using cached nvidia_cuda_runtime_cu12-12.1.105-py3-none-manylinux1_x86_64.whl (823 kB)\n",
            "Collecting nvidia-cuda-cupti-cu12==12.1.105 (from torch)\n",
            "  Using cached nvidia_cuda_cupti_cu12-12.1.105-py3-none-manylinux1_x86_64.whl (14.1 MB)\n",
            "Collecting nvidia-cudnn-cu12==8.9.2.26 (from torch)\n",
            "  Using cached nvidia_cudnn_cu12-8.9.2.26-py3-none-manylinux1_x86_64.whl (731.7 MB)\n",
            "Collecting nvidia-cublas-cu12==12.1.3.1 (from torch)\n",
            "  Using cached nvidia_cublas_cu12-12.1.3.1-py3-none-manylinux1_x86_64.whl (410.6 MB)\n",
            "Collecting nvidia-cufft-cu12==11.0.2.54 (from torch)\n",
            "  Using cached nvidia_cufft_cu12-11.0.2.54-py3-none-manylinux1_x86_64.whl (121.6 MB)\n",
            "Collecting nvidia-curand-cu12==10.3.2.106 (from torch)\n",
            "  Using cached nvidia_curand_cu12-10.3.2.106-py3-none-manylinux1_x86_64.whl (56.5 MB)\n",
            "Collecting nvidia-cusolver-cu12==11.4.5.107 (from torch)\n",
            "  Using cached nvidia_cusolver_cu12-11.4.5.107-py3-none-manylinux1_x86_64.whl (124.2 MB)\n",
            "Collecting nvidia-cusparse-cu12==12.1.0.106 (from torch)\n",
            "  Using cached nvidia_cusparse_cu12-12.1.0.106-py3-none-manylinux1_x86_64.whl (196.0 MB)\n",
            "Collecting nvidia-nccl-cu12==2.19.3 (from torch)\n",
            "  Using cached nvidia_nccl_cu12-2.19.3-py3-none-manylinux1_x86_64.whl (166.0 MB)\n",
            "Collecting nvidia-nvtx-cu12==12.1.105 (from torch)\n",
            "  Using cached nvidia_nvtx_cu12-12.1.105-py3-none-manylinux1_x86_64.whl (99 kB)\n",
            "Requirement already satisfied: triton==2.2.0 in /usr/local/lib/python3.10/dist-packages (from torch) (2.2.0)\n",
            "Collecting nvidia-nvjitlink-cu12 (from nvidia-cusolver-cu12==11.4.5.107->torch)\n",
            "  Using cached nvidia_nvjitlink_cu12-12.4.127-py3-none-manylinux2014_x86_64.whl (21.1 MB)\n",
            "Requirement already satisfied: MarkupSafe>=2.0 in /usr/local/lib/python3.10/dist-packages (from jinja2->torch) (2.1.5)\n",
            "Requirement already satisfied: mpmath>=0.19 in /usr/local/lib/python3.10/dist-packages (from sympy->torch) (1.3.0)\n",
            "Installing collected packages: nvidia-nvtx-cu12, nvidia-nvjitlink-cu12, nvidia-nccl-cu12, nvidia-curand-cu12, nvidia-cufft-cu12, nvidia-cuda-runtime-cu12, nvidia-cuda-nvrtc-cu12, nvidia-cuda-cupti-cu12, nvidia-cublas-cu12, nvidia-cusparse-cu12, nvidia-cudnn-cu12, nvidia-cusolver-cu12\n",
            "Successfully installed nvidia-cublas-cu12-12.1.3.1 nvidia-cuda-cupti-cu12-12.1.105 nvidia-cuda-nvrtc-cu12-12.1.105 nvidia-cuda-runtime-cu12-12.1.105 nvidia-cudnn-cu12-8.9.2.26 nvidia-cufft-cu12-11.0.2.54 nvidia-curand-cu12-10.3.2.106 nvidia-cusolver-cu12-11.4.5.107 nvidia-cusparse-cu12-12.1.0.106 nvidia-nccl-cu12-2.19.3 nvidia-nvjitlink-cu12-12.4.127 nvidia-nvtx-cu12-12.1.105\n",
            "Requirement already satisfied: matplotlib in /usr/local/lib/python3.10/dist-packages (3.7.1)\n",
            "Requirement already satisfied: contourpy>=1.0.1 in /usr/local/lib/python3.10/dist-packages (from matplotlib) (1.2.1)\n",
            "Requirement already satisfied: cycler>=0.10 in /usr/local/lib/python3.10/dist-packages (from matplotlib) (0.12.1)\n",
            "Requirement already satisfied: fonttools>=4.22.0 in /usr/local/lib/python3.10/dist-packages (from matplotlib) (4.51.0)\n",
            "Requirement already satisfied: kiwisolver>=1.0.1 in /usr/local/lib/python3.10/dist-packages (from matplotlib) (1.4.5)\n",
            "Requirement already satisfied: numpy>=1.20 in /usr/local/lib/python3.10/dist-packages (from matplotlib) (1.25.2)\n",
            "Requirement already satisfied: packaging>=20.0 in /usr/local/lib/python3.10/dist-packages (from matplotlib) (24.0)\n",
            "Requirement already satisfied: pillow>=6.2.0 in /usr/local/lib/python3.10/dist-packages (from matplotlib) (9.4.0)\n",
            "Requirement already satisfied: pyparsing>=2.3.1 in /usr/local/lib/python3.10/dist-packages (from matplotlib) (3.1.2)\n",
            "Requirement already satisfied: python-dateutil>=2.7 in /usr/local/lib/python3.10/dist-packages (from matplotlib) (2.8.2)\n",
            "Requirement already satisfied: six>=1.5 in /usr/local/lib/python3.10/dist-packages (from python-dateutil>=2.7->matplotlib) (1.16.0)\n",
            "Requirement already satisfied: yfinance in /usr/local/lib/python3.10/dist-packages (0.2.37)\n",
            "Requirement already satisfied: pandas>=1.3.0 in /usr/local/lib/python3.10/dist-packages (from yfinance) (2.0.3)\n",
            "Requirement already satisfied: numpy>=1.16.5 in /usr/local/lib/python3.10/dist-packages (from yfinance) (1.25.2)\n",
            "Requirement already satisfied: requests>=2.31 in /usr/local/lib/python3.10/dist-packages (from yfinance) (2.31.0)\n",
            "Requirement already satisfied: multitasking>=0.0.7 in /usr/local/lib/python3.10/dist-packages (from yfinance) (0.0.11)\n",
            "Requirement already satisfied: lxml>=4.9.1 in /usr/local/lib/python3.10/dist-packages (from yfinance) (4.9.4)\n",
            "Requirement already satisfied: appdirs>=1.4.4 in /usr/local/lib/python3.10/dist-packages (from yfinance) (1.4.4)\n",
            "Requirement already satisfied: pytz>=2022.5 in /usr/local/lib/python3.10/dist-packages (from yfinance) (2023.4)\n",
            "Requirement already satisfied: frozendict>=2.3.4 in /usr/local/lib/python3.10/dist-packages (from yfinance) (2.4.1)\n",
            "Requirement already satisfied: peewee>=3.16.2 in /usr/local/lib/python3.10/dist-packages (from yfinance) (3.17.1)\n",
            "Requirement already satisfied: beautifulsoup4>=4.11.1 in /usr/local/lib/python3.10/dist-packages (from yfinance) (4.12.3)\n",
            "Requirement already satisfied: html5lib>=1.1 in /usr/local/lib/python3.10/dist-packages (from yfinance) (1.1)\n",
            "Requirement already satisfied: soupsieve>1.2 in /usr/local/lib/python3.10/dist-packages (from beautifulsoup4>=4.11.1->yfinance) (2.5)\n",
            "Requirement already satisfied: six>=1.9 in /usr/local/lib/python3.10/dist-packages (from html5lib>=1.1->yfinance) (1.16.0)\n",
            "Requirement already satisfied: webencodings in /usr/local/lib/python3.10/dist-packages (from html5lib>=1.1->yfinance) (0.5.1)\n",
            "Requirement already satisfied: python-dateutil>=2.8.2 in /usr/local/lib/python3.10/dist-packages (from pandas>=1.3.0->yfinance) (2.8.2)\n",
            "Requirement already satisfied: tzdata>=2022.1 in /usr/local/lib/python3.10/dist-packages (from pandas>=1.3.0->yfinance) (2024.1)\n",
            "Requirement already satisfied: charset-normalizer<4,>=2 in /usr/local/lib/python3.10/dist-packages (from requests>=2.31->yfinance) (3.3.2)\n",
            "Requirement already satisfied: idna<4,>=2.5 in /usr/local/lib/python3.10/dist-packages (from requests>=2.31->yfinance) (3.6)\n",
            "Requirement already satisfied: urllib3<3,>=1.21.1 in /usr/local/lib/python3.10/dist-packages (from requests>=2.31->yfinance) (2.0.7)\n",
            "Requirement already satisfied: certifi>=2017.4.17 in /usr/local/lib/python3.10/dist-packages (from requests>=2.31->yfinance) (2024.2.2)\n",
            "Requirement already satisfied: numpy in /usr/local/lib/python3.10/dist-packages (1.25.2)\n"
          ]
        }
      ]
    },
    {
      "cell_type": "code",
      "source": [
        "import yfinance as yf\n",
        "\n",
        "#ONLY CHANGE THINGS INSIDE HERE\n",
        "\n",
        "stockChosenTicker = \"NVDA\"\n",
        "inputBatchSize = 100\n",
        "outputBatchSize = 10\n",
        "numberOfEpochs = 500\n",
        "learningRate = 0.001\n",
        "dropout = 0.1\n",
        "\n",
        "#ONLY CHANGE THINGS INSIDE HERE\n",
        "\n",
        "\n",
        "stockChosen = yf.Ticker(stockChosenTicker)\n",
        "\n",
        "df = stockChosen.history(period=\"10y\")\n",
        "\n",
        "df.drop(columns=['Stock Splits'], inplace=True)\n",
        "\n",
        "df.drop(columns=['Dividends'], inplace=True)\n",
        "\n",
        "X, y = df.drop(columns=['Close']), df.Close.values\n",
        "\n",
        "stockChosenShowingFinancials = stockChosen\n",
        "\n",
        "print(\"PICK TOP/2024 VALUE FOR THESE 4 DATA POINTS\")\n",
        "print(stockChosenShowingFinancials.income_stmt.loc['Total Expenses'])\n",
        "print(stockChosenShowingFinancials.income_stmt.loc['Total Revenue'])\n",
        "print(stockChosenShowingFinancials.income_stmt.loc['Net Income'])\n",
        "print(stockChosenShowingFinancials.income_stmt.loc['Basic EPS'])\n",
        "#ALSO RECORD THESE FINANCIAL DATA POINTS"
      ],
      "metadata": {
        "id": "iLWzshXvva5n",
        "colab": {
          "base_uri": "https://localhost:8080/"
        },
        "outputId": "1fe220ad-f77f-4d52-96d1-ea4fb43ddc32"
      },
      "execution_count": 2,
      "outputs": [
        {
          "output_type": "stream",
          "name": "stdout",
          "text": [
            "PICK TOP/2024 VALUE FOR THESE 4 DATA POINTS\n",
            "2024-01-31    27950000000.0\n",
            "2023-01-31    21397000000.0\n",
            "2022-01-31    16873000000.0\n",
            "2021-01-31    12143000000.0\n",
            "Name: Total Expenses, dtype: object\n",
            "2024-01-31    60922000000.0\n",
            "2023-01-31    26974000000.0\n",
            "2022-01-31    26914000000.0\n",
            "2021-01-31    16675000000.0\n",
            "Name: Total Revenue, dtype: object\n",
            "2024-01-31    29760000000.0\n",
            "2023-01-31     4368000000.0\n",
            "2022-01-31     9752000000.0\n",
            "2021-01-31     4332000000.0\n",
            "Name: Net Income, dtype: object\n",
            "2024-01-31    12.05\n",
            "2023-01-31     1.76\n",
            "2022-01-31     3.91\n",
            "2021-01-31    1.755\n",
            "Name: Basic EPS, dtype: object\n"
          ]
        }
      ]
    },
    {
      "cell_type": "code",
      "source": [
        "\"\"\"\n",
        "plt.plot(y)\n",
        "plt.xlabel(\"Time\")\n",
        "plt.ylabel(\"Price\")\n",
        "plt.title(\"price over time\")\n",
        "plt.savefig(\"initial_plot.png\", dpi=250)\n",
        "plt.show();\n",
        "\"\"\""
      ],
      "metadata": {
        "colab": {
          "base_uri": "https://localhost:8080/",
          "height": 52
        },
        "id": "zGnuoBivYSEn",
        "outputId": "0c9b0399-2df3-4c70-c53d-ea31d8661587"
      },
      "execution_count": 3,
      "outputs": [
        {
          "output_type": "execute_result",
          "data": {
            "text/plain": [
              "'\\nplt.plot(y)\\nplt.xlabel(\"Time\")\\nplt.ylabel(\"Price\")\\nplt.title(\"price over time\")\\nplt.savefig(\"initial_plot.png\", dpi=250)\\nplt.show();\\n'"
            ],
            "application/vnd.google.colaboratory.intrinsic+json": {
              "type": "string"
            }
          },
          "metadata": {},
          "execution_count": 3
        }
      ]
    },
    {
      "cell_type": "code",
      "source": [
        "from sklearn.preprocessing import StandardScaler, MinMaxScaler\n",
        "mm = MinMaxScaler()\n",
        "ss = StandardScaler()\n",
        "\n",
        "X_trans = ss.fit_transform(X)\n",
        "y_trans = mm.fit_transform(y.reshape(-1, 1))\n",
        "\n",
        "\"\"\"\n",
        "print(\"X shape is:\", X.shape)\n",
        "print(\"y is:\", y)\n",
        "print(\"X shape after fit transform is:\", X_trans.shape)\n",
        "print(\"y after fit transform is:\", y_trans)\n",
        "\n",
        "print(X_trans.shape)\n",
        "print(y_trans.shape)\n",
        "print(X_trans[-20:][0])\n",
        "\"\"\""
      ],
      "metadata": {
        "id": "iIF2XcoVYXsU",
        "colab": {
          "base_uri": "https://localhost:8080/",
          "height": 86
        },
        "outputId": "6ae1897c-f3c3-46dd-9fe4-19808fd77cb0"
      },
      "execution_count": 4,
      "outputs": [
        {
          "output_type": "execute_result",
          "data": {
            "text/plain": [
              "'\\nprint(\"X shape is:\", X.shape)\\nprint(\"y is:\", y)\\nprint(\"X shape after fit transform is:\", X_trans.shape)\\nprint(\"y after fit transform is:\", y_trans)\\n\\nprint(X_trans.shape)\\nprint(y_trans.shape)\\nprint(X_trans[-20:][0])\\n'"
            ],
            "application/vnd.google.colaboratory.intrinsic+json": {
              "type": "string"
            }
          },
          "metadata": {},
          "execution_count": 4
        }
      ]
    },
    {
      "cell_type": "code",
      "source": [
        "# split a multivariate sequence past, future samples (X and y)\n",
        "def split_sequences(input_sequences, output_sequence, n_steps_in, n_steps_out):\n",
        "    X, y = list(), list() # instantiate X and y\n",
        "    for i in range(len(input_sequences)):\n",
        "        # find the end of the input, output sequence\n",
        "        end_ix = i + n_steps_in\n",
        "        out_end_ix = end_ix + n_steps_out\n",
        "        # check if we are beyond the dataset\n",
        "        if out_end_ix > len(input_sequences): break\n",
        "        # gather input and output of the pattern\n",
        "        seq_x, seq_y = input_sequences[i:end_ix], output_sequence[end_ix:out_end_ix, -1]\n",
        "        X.append(seq_x), y.append(seq_y)\n",
        "    return np.array(X), np.array(y)\n",
        "\n",
        "X_ss, y_mm = split_sequences(X_trans, y_trans, inputBatchSize, outputBatchSize)\n",
        "\n",
        "\"\"\"\n",
        "print(\"X_ss is:\", X_ss)\n",
        "print(\"X_trans is:\", X_trans[-15:])\n",
        "\n",
        "print(\"y_ss is:\", y_mm)\n",
        "print(\"y_trans is:\", y_trans[100])\n",
        "\n",
        "\n",
        "\n",
        "print(\"X_ss shape is:\", X_ss.shape)\n",
        "\n",
        "\n",
        "print(\"y_ss shape is:\", y_mm.shape)\n",
        "\n",
        "\"\"\"\n",
        "\n",
        "\n",
        "\n"
      ],
      "metadata": {
        "id": "-LwxOS3WYcde",
        "colab": {
          "base_uri": "https://localhost:8080/",
          "height": 69
        },
        "outputId": "5d952c53-64aa-4d49-cf34-fec30053ff91"
      },
      "execution_count": 5,
      "outputs": [
        {
          "output_type": "execute_result",
          "data": {
            "text/plain": [
              "'\\nprint(\"X_ss is:\", X_ss)\\nprint(\"X_trans is:\", X_trans[-15:])\\n\\nprint(\"y_ss is:\", y_mm)\\nprint(\"y_trans is:\", y_trans[100])\\n\\n\\n\\nprint(\"X_ss shape is:\", X_ss.shape)\\n\\n\\nprint(\"y_ss shape is:\", y_mm.shape)\\n\\n'"
            ],
            "application/vnd.google.colaboratory.intrinsic+json": {
              "type": "string"
            }
          },
          "metadata": {},
          "execution_count": 5
        }
      ]
    },
    {
      "cell_type": "code",
      "source": [
        "\n",
        "X_train = X_ss[:-150]\n",
        "X_test = X_ss[-150:]\n",
        "\n",
        "y_train = y_mm[:-150]\n",
        "y_test = y_mm[-150:]\n",
        "\n"
      ],
      "metadata": {
        "id": "e8_TvcP5Ypef"
      },
      "execution_count": 6,
      "outputs": []
    },
    {
      "cell_type": "code",
      "source": [
        "import torch\n",
        "\n",
        "X_train_tensors = torch.Tensor(X_train)\n",
        "X_test_tensors = torch.Tensor(X_test)\n",
        "\n",
        "y_train_tensors = torch.Tensor(y_train)\n",
        "y_test_tensors = torch.Tensor(y_test)"
      ],
      "metadata": {
        "id": "u4N8Xl3bYsc5"
      },
      "execution_count": 7,
      "outputs": []
    },
    {
      "cell_type": "code",
      "source": [
        "# reshaping to rows, timestamps, features\n",
        "X_train_tensors_final = torch.reshape(X_train_tensors,\n",
        "                                      (X_train_tensors.shape[0], inputBatchSize,\n",
        "                                       X_train_tensors.shape[2]))\n",
        "X_test_tensors_final = torch.reshape(X_test_tensors,\n",
        "                                     (X_test_tensors.shape[0], inputBatchSize,\n",
        "                                      X_test_tensors.shape[2]))"
      ],
      "metadata": {
        "id": "0x8tGmUtYuxX"
      },
      "execution_count": 8,
      "outputs": []
    },
    {
      "cell_type": "code",
      "source": [
        "import torch.nn as nn\n",
        "\n",
        "class LSTM(nn.Module):\n",
        "\n",
        "    def __init__(self, num_classes, input_size, hidden_size, num_layers):\n",
        "        super().__init__()\n",
        "        self.num_classes = num_classes # output size\n",
        "        self.num_layers = num_layers # number of recurrent layers in the lstm\n",
        "        self.input_size = input_size # input size\n",
        "        self.hidden_size = hidden_size # number of features/outputs in hidden state\n",
        "        # LSTM model\n",
        "        self.lstm = nn.LSTM(input_size=input_size, hidden_size=hidden_size,\n",
        "                            num_layers=num_layers, batch_first=True, dropout=dropout) # lstm\n",
        "        self.fc_1 =  nn.Linear(hidden_size, 128) # fully connected\n",
        "        self.fc_2 = nn.Linear(128, num_classes) # fully connected last layer\n",
        "        self.relu = nn.ReLU()\n",
        "\n",
        "    def forward(self,x):\n",
        "        # hidden state\n",
        "        h_0 = torch.zeros(self.num_layers, x.size(0), self.hidden_size)\n",
        "        # cell state\n",
        "        c_0 = torch.zeros(self.num_layers, x.size(0), self.hidden_size)\n",
        "        # propagate input through LSTM\n",
        "        output, (hn, cn) = self.lstm(x, (h_0, c_0)) # (input, hidden, and internal state)\n",
        "        hn = hn.view(-1, self.hidden_size) # reshaping the data for Dense layer next\n",
        "        out = self.relu(hn)\n",
        "        out = self.fc_1(out) # first dense\n",
        "        out = self.relu(out) # relu\n",
        "        out = self.fc_2(out) # final output\n",
        "        return out"
      ],
      "metadata": {
        "id": "FN9WmfmmZBVx"
      },
      "execution_count": 9,
      "outputs": []
    },
    {
      "cell_type": "code",
      "source": [
        "def training_loop(n_epochs, lstm, optimiser, loss_fn, X_train, y_train, X_test, y_test):\n",
        "    for epoch in range(n_epochs):\n",
        "        lstm.train()\n",
        "        outputs = lstm.forward(X_train) # forward pass\n",
        "        optimiser.zero_grad() # calculate the gradient, manually setting to 0\n",
        "        # obtain the loss function\n",
        "        loss = loss_fn(outputs, y_train)\n",
        "        loss.backward() # calculates the loss of the loss function\n",
        "        optimiser.step() # improve from loss, i.e backprop\n",
        "        #test loss\n",
        "        lstm.eval()\n",
        "        test_preds = lstm(X_test)\n",
        "        test_loss = loss_fn(test_preds, y_test)\n",
        "\n",
        "        #commenting out as the dummies may get confused\n",
        "        \"\"\"\n",
        "        if epoch % 10 == 0:\n",
        "          print(\"Epoch: %d, train loss: %1.5f, test loss: %1.5f\" % (epoch, loss.item(), test_loss.item()))\n",
        "        \"\"\"\n"
      ],
      "metadata": {
        "id": "3BYur1sFZFRu"
      },
      "execution_count": 10,
      "outputs": []
    },
    {
      "cell_type": "code",
      "source": [
        "import warnings\n",
        "warnings.filterwarnings('ignore')\n",
        "\n",
        "n_epochs = numberOfEpochs # 1000 epochs\n",
        "learning_rate = learningRate # 0.001 lr\n",
        "\n",
        "#HAVE CHANGED FROM 4 TO 5 TO SEE IF FIT THROWN\n",
        "input_size = 4 # number of features\n",
        "hidden_size = 2 # number of features/outputs in hidden state(short-term memory)\n",
        "num_layers = 1 # number of stacked lstm layers\n",
        "\n",
        "num_classes = outputBatchSize # number of output classes (timesteps)\n",
        "\n",
        "train_and_review_lstm = LSTM(num_classes,\n",
        "              input_size,\n",
        "              hidden_size,\n",
        "              num_layers)"
      ],
      "metadata": {
        "id": "cVQoJb9_ZHeP"
      },
      "execution_count": 11,
      "outputs": []
    },
    {
      "cell_type": "code",
      "source": [
        "loss_fn = torch.nn.MSELoss()    #mean-squared error for regression\n",
        "optimiser = torch.optim.Adam(train_and_review_lstm.parameters(), lr=learning_rate)\n",
        "\n",
        "training_loop(n_epochs=n_epochs,\n",
        "              lstm=train_and_review_lstm,\n",
        "              optimiser=optimiser,\n",
        "              loss_fn=loss_fn,\n",
        "              X_train=X_train_tensors_final,\n",
        "              y_train=y_train_tensors,\n",
        "              X_test=X_test_tensors_final,\n",
        "              y_test=y_test_tensors)"
      ],
      "metadata": {
        "id": "aKX2nYzsyWLK"
      },
      "execution_count": 12,
      "outputs": []
    },
    {
      "cell_type": "code",
      "source": [
        "testing_X_trans = ss.transform(df.drop(columns=['Close'])) # old transformers\n",
        "testing_y_trans = mm.transform(df.Close.values.reshape(-1, 1)) # old transformers\n",
        "\n",
        "\"\"\"\n",
        "print(testing_X_trans.shape)\n",
        "print(testing_y_trans.shape)\n",
        "\"\"\"\n",
        "\n",
        "# split the sequence\n",
        "testing_X_trans, testing_y_trans = split_sequences(testing_X_trans, testing_y_trans, inputBatchSize, outputBatchSize)\n",
        "\n",
        "\"\"\"\n",
        "print(testing_X_trans.shape)\n",
        "print(testing_y_trans.shape)\n",
        "\"\"\"\n",
        "\n",
        "\n",
        "# converting to tensors\n",
        "testing_X_trans = torch.Tensor(testing_X_trans)\n",
        "testing_y_trans = torch.Tensor(testing_y_trans)\n",
        "\n",
        "\n",
        "# reshaping the dataset\n",
        "testing_X_trans = torch.reshape(testing_X_trans, (testing_X_trans.shape[0], inputBatchSize, testing_X_trans.shape[2]))\n",
        "\n",
        "\"\"\"\n",
        "print(testing_X_trans.shape)\n",
        "print(testing_y_trans.shape)\n",
        "\"\"\"\n",
        "\n",
        "train_predict = train_and_review_lstm(testing_X_trans) # forward pass\n",
        "\n",
        "\"\"\"\n",
        "print(\"train predict is:\", train_predict)\n",
        "print(\"shape of train predict is:\", train_predict.shape)\n",
        "\n",
        "\"\"\"\n",
        "\n",
        "data_predict = train_predict.data.numpy() # numpy conversion\n",
        "dataY_plot = testing_y_trans.data.numpy()\n",
        "\n",
        "\"\"\"\n",
        "\n",
        "print(\"shape of data predict is:\", data_predict.shape)\n",
        "print(\"shape of dataY plot is:\", dataY_plot.shape)\n",
        "\"\"\"\n",
        "\n",
        "data_predict = mm.inverse_transform(data_predict) # reverse transformation\n",
        "dataY_plot = mm.inverse_transform(dataY_plot)\n",
        "\"\"\"\n",
        "print(\"shape of data predict is:\", data_predict.shape)\n",
        "print(\"shape of dataY plot is:\", dataY_plot.shape)\n",
        "\n",
        "print(\"data predict is:\", data_predict)\n",
        "print(\"dataY plot is:\", dataY_plot)\n",
        "\n",
        "print(\"len datay plot is:\", len(dataY_plot))\n",
        "\"\"\"\n",
        "true, preds = [], []\n",
        "for i in range(len(dataY_plot)):\n",
        "    true.append(dataY_plot[i][0])\n",
        "#for i in range(1,len(dataY_plot[-1])):\n",
        "    #true.append(dataY_plot[-1][i])\n",
        "for i in range(len(data_predict)):\n",
        "    preds.append(data_predict[i][0])\n",
        "#for i in range(1,len(data_predict[-1])):\n",
        "    #true.append(data_predict[-1][i])\n",
        "\n",
        "\n",
        "plt.figure(figsize=(10,6)) #plotting\n",
        "plt.axvline(x=len(dataY_plot)-160, c='r', linestyle='--') # size of the training set\n",
        "plt.plot(true, label='Actual Data') # actual plot\n",
        "plt.plot(preds, label='Predicted Data') # predicted plot\n",
        "plt.title('Time-Series Prediction')\n",
        "plt.legend()\n",
        "plt.savefig(\"whole_plot.png\", dpi=300)\n",
        "plt.show()\n"
      ],
      "metadata": {
        "id": "ib3us1EDZM3n",
        "colab": {
          "base_uri": "https://localhost:8080/",
          "height": 412
        },
        "outputId": "6cb18db8-71ad-4042-8598-550820287a94"
      },
      "execution_count": 13,
      "outputs": [
        {
          "output_type": "display_data",
          "data": {
            "text/plain": [
              "<Figure size 1000x600 with 1 Axes>"
            ],
            "image/png": "[encoded data removed]"
          },
          "metadata": {}
        }
      ]
    },
    {
      "cell_type": "code",
      "source": [
        "\"\"\"\n",
        "print(X_test_tensors_final.shape)\n",
        "test_predict = train_and_review_lstm(X_test_tensors_final[0].unsqueeze(0)) # get the last sample, was X_test_tensors_final[-1].unsqueeze()\n",
        "print(test_predict.shape)\n",
        "\n",
        "test_predict = test_predict.detach().numpy()\n",
        "test_predict = mm.inverse_transform(test_predict)\n",
        "test_predict = test_predict[0].tolist()\n",
        "\n",
        "test_target = y_test_tensors[0].detach().numpy() # last sample again\n",
        "test_target = mm.inverse_transform(test_target.reshape(1, -1))\n",
        "test_target = test_target[0].tolist()\n",
        "\n",
        "plt.plot(test_target, label=\"Actual Data\")\n",
        "plt.plot(test_predict, label=\"LSTM Predictions\")\n",
        "plt.savefig(\"small_plot.png\", dpi=300)\n",
        "plt.axvline(x=0, c='r', linestyle='--')\n",
        "plt.show();\n",
        "\"\"\""
      ],
      "metadata": {
        "id": "FTynzKl5ZVBt",
        "colab": {
          "base_uri": "https://localhost:8080/",
          "height": 188
        },
        "outputId": "3331e791-b88a-4460-9498-4627bdc1d0ad"
      },
      "execution_count": 14,
      "outputs": [
        {
          "output_type": "execute_result",
          "data": {
            "text/plain": [
              "'\\nprint(X_test_tensors_final.shape)\\ntest_predict = train_and_review_lstm(X_test_tensors_final[0].unsqueeze(0)) # get the last sample, was X_test_tensors_final[-1].unsqueeze()\\nprint(test_predict.shape)\\n\\ntest_predict = test_predict.detach().numpy()\\ntest_predict = mm.inverse_transform(test_predict)\\ntest_predict = test_predict[0].tolist()\\n\\ntest_target = y_test_tensors[0].detach().numpy() # last sample again\\ntest_target = mm.inverse_transform(test_target.reshape(1, -1))\\ntest_target = test_target[0].tolist()\\n\\nplt.plot(test_target, label=\"Actual Data\")\\nplt.plot(test_predict, label=\"LSTM Predictions\")\\nplt.savefig(\"small_plot.png\", dpi=300)\\nplt.axvline(x=0, c=\\'r\\', linestyle=\\'--\\')\\nplt.show();\\n'"
            ],
            "application/vnd.google.colaboratory.intrinsic+json": {
              "type": "string"
            }
          },
          "metadata": {},
          "execution_count": 14
        }
      ]
    },
    {
      "cell_type": "code",
      "source": [
        "\n",
        "X_actual_test_tensors, y_actual_test_tensors = split_sequences(X_trans, y_trans, inputBatchSize, outputBatchSize)\n",
        "\n",
        "X_actual_test_tensors = torch.Tensor(X_actual_test_tensors)\n",
        "y_actual_test_tensors = torch.Tensor(y_actual_test_tensors)\n",
        "\n",
        "n_epochs = 150\n",
        "\n",
        "\"\"\"\n",
        "training_loop(n_epochs=n_epochs,\n",
        "              lstm=train_and_review_lstm,\n",
        "              optimiser=optimiser,\n",
        "              loss_fn=loss_fn,\n",
        "              X_train=X_actual_test_tensors,\n",
        "              y_train=y_actual_test_tensors,\n",
        "              X_test=X_test_tensors_final,\n",
        "              y_test=y_test_tensors)\n",
        "\"\"\"\n",
        "\n",
        "X_actual_prediction, empty = split_sequences(X_trans, y_trans, inputBatchSize, 0)\n",
        "\n",
        "X_actual_prediction = torch.Tensor(X_actual_prediction)\n",
        "\n",
        "\n",
        "X_actual_prediction = torch.reshape(X_actual_prediction, (X_actual_prediction.shape[0], inputBatchSize, X_actual_prediction.shape[2]))\n",
        "\n",
        "actual_predict = train_and_review_lstm(X_actual_prediction) # forward pass\n",
        "\n",
        "\"\"\"\n",
        "print(\"train predict is:\", actual_predict)\n",
        "\"\"\"\n",
        "\n",
        "data_predict = actual_predict.data.numpy() # numpy conversion\n",
        "dataY_plot = testing_y_trans.data.numpy()\n",
        "\n",
        "\"\"\"\n",
        "print(data_predict.shape)\n",
        "print(dataY_plot.shape)\n",
        "\"\"\"\n",
        "\n",
        "data_predict = mm.inverse_transform(data_predict) # reverse transformation\n",
        "dataY_plot = mm.inverse_transform(dataY_plot)\n",
        "\n",
        "\n",
        "\"\"\"\n",
        "print(\"data predict is;\", data_predict)\n",
        "print(\"datay is:\", dataY_plot)\n",
        "\"\"\"\n",
        "\n",
        "true, preds = [], []\n",
        "for i in range(len(dataY_plot)):\n",
        "    true.append(dataY_plot[i][0])\n",
        "for i in range(1,len(dataY_plot[-1])):\n",
        "    true.append(dataY_plot[-1][i])\n",
        "for i in range(len(data_predict)):\n",
        "    preds.append(data_predict[i][0])\n",
        "for i in range(1,len(data_predict[-1])):\n",
        "    preds.append(data_predict[-1][i])\n",
        "\n",
        "\n",
        "plt.figure(figsize=(10,6)) #plotting\n",
        "plt.axvline(x=len(dataY_plot), c='r', linestyle='--') # size of the training set\n",
        "plt.axhline(y=dataY_plot[-1][-1])\n",
        "plt.plot(true, label='Actual Data') # actual plot\n",
        "plt.plot(preds, label='Predicted Data') # predicted plot\n",
        "plt.title('Time-Series Prediction')\n",
        "plt.legend()\n",
        "plt.savefig(\"whole_plot.png\", dpi=300)\n",
        "plt.show()\n",
        "\n",
        "print(dataY_plot[-1])\n",
        "\n",
        "print(\"\"\"\n",
        "\n",
        "START OF PREDICTIONS\n",
        "\n",
        "\"\"\")\n",
        "print(\"*Predicted prices for the next ten days*\")\n",
        "print(data_predict[-1])\n",
        "print(\"*Predicted prices for the next ten days*\")\n",
        "\n",
        "print(\"\"\"\n",
        "\n",
        "END OF PREDICTIONS\n",
        "\n",
        "\"\"\")\n",
        "\n",
        "#RECORD THESE PREDICTIONS"
      ],
      "metadata": {
        "id": "TjBK3O0VSoiv",
        "colab": {
          "base_uri": "https://localhost:8080/",
          "height": 687
        },
        "outputId": "d26b01c2-982a-415a-e726-f18199e2ba6e"
      },
      "execution_count": 15,
      "outputs": [
        {
          "output_type": "display_data",
          "data": {
            "text/plain": [
              "<Figure size 1000x600 with 1 Axes>"
            ],
            "image/png": "[encoded data removed]"
          },
          "metadata": {}
        },
        {
          "output_type": "stream",
          "name": "stdout",
          "text": [
            "[894.52   889.64   859.05   880.08   871.33   853.5399 870.39   906.16\n",
            " 881.86   860.01  ]\n",
            "\n",
            "\n",
            "START OF PREDICTIONS\n",
            "\n",
            "\n",
            "*Predicted prices for the next ten days*\n",
            "[509.78265 498.7264  504.71912 503.77942 502.92303 511.0005  518.06274\n",
            " 504.6439  506.95563 519.5787 ]\n",
            "*Predicted prices for the next ten days*\n",
            "\n",
            "\n",
            "END OF PREDICTIONS\n",
            "\n",
            "\n"
          ]
        }
      ]
    }
  ]
}